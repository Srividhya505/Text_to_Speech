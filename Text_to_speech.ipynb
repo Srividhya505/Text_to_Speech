{
 "cells": [
  {
   "cell_type": "code",
   "execution_count": 1,
   "id": "c3d4a0a1",
   "metadata": {},
   "outputs": [
    {
     "name": "stdout",
     "output_type": "stream",
     "text": [
      "Defaulting to user installation because normal site-packages is not writeable\n",
      "Collecting gTTS\n",
      "  Obtaining dependency information for gTTS from https://files.pythonhosted.org/packages/e3/6c/8b8b1fdcaee7e268536f1bb00183a5894627726b54a9ddc6fc9909888447/gTTS-2.5.4-py3-none-any.whl.metadata\n",
      "  Downloading gTTS-2.5.4-py3-none-any.whl.metadata (4.1 kB)\n",
      "Requirement already satisfied: requests<3,>=2.27 in c:\\programdata\\anaconda3\\lib\\site-packages (from gTTS) (2.31.0)\n",
      "Requirement already satisfied: click<8.2,>=7.1 in c:\\programdata\\anaconda3\\lib\\site-packages (from gTTS) (8.0.4)\n",
      "Requirement already satisfied: colorama in c:\\programdata\\anaconda3\\lib\\site-packages (from click<8.2,>=7.1->gTTS) (0.4.6)\n",
      "Requirement already satisfied: charset-normalizer<4,>=2 in c:\\programdata\\anaconda3\\lib\\site-packages (from requests<3,>=2.27->gTTS) (2.0.4)\n",
      "Requirement already satisfied: idna<4,>=2.5 in c:\\programdata\\anaconda3\\lib\\site-packages (from requests<3,>=2.27->gTTS) (3.4)\n",
      "Requirement already satisfied: urllib3<3,>=1.21.1 in c:\\programdata\\anaconda3\\lib\\site-packages (from requests<3,>=2.27->gTTS) (1.26.16)\n",
      "Requirement already satisfied: certifi>=2017.4.17 in c:\\programdata\\anaconda3\\lib\\site-packages (from requests<3,>=2.27->gTTS) (2023.7.22)\n",
      "Downloading gTTS-2.5.4-py3-none-any.whl (29 kB)\n",
      "Installing collected packages: gTTS\n",
      "Successfully installed gTTS-2.5.4\n",
      "Note: you may need to restart the kernel to use updated packages.\n"
     ]
    },
    {
     "name": "stderr",
     "output_type": "stream",
     "text": [
      "DEPRECATION: Loading egg at c:\\programdata\\anaconda3\\lib\\site-packages\\vboxapi-1.0-py3.11.egg is deprecated. pip 23.3 will enforce this behaviour change. A possible replacement is to use pip for package installation..\n",
      "  WARNING: The script gtts-cli.exe is installed in 'C:\\Users\\gangi\\AppData\\Roaming\\Python\\Python311\\Scripts' which is not on PATH.\n",
      "  Consider adding this directory to PATH or, if you prefer to suppress this warning, use --no-warn-script-location.\n"
     ]
    }
   ],
   "source": [
    "pip install gTTS"
   ]
  },
  {
   "cell_type": "code",
   "execution_count": 20,
   "id": "bd90896d",
   "metadata": {},
   "outputs": [],
   "source": [
    "from gtts import gTTS"
   ]
  },
  {
   "cell_type": "code",
   "execution_count": 21,
   "id": "bca4c308",
   "metadata": {},
   "outputs": [],
   "source": [
    "#chooses the language, English('en')\n",
    "convert = gTTS(text='I like this NLP. How about dude!', lang=\"en\", slow=False)\n",
    "# Saving the converted audio in a mp3 file name\n",
    "convert.save(\"audio.mp3\")"
   ]
  },
  {
   "cell_type": "code",
   "execution_count": 22,
   "id": "8e40654b",
   "metadata": {},
   "outputs": [
    {
     "name": "stdout",
     "output_type": "stream",
     "text": [
      "Defaulting to user installation because normal site-packages is not writeable\n",
      "Requirement already satisfied: pyttsx3 in c:\\users\\gangi\\appdata\\roaming\\python\\python311\\site-packages (2.98)\n",
      "Requirement already satisfied: comtypes in c:\\users\\gangi\\appdata\\roaming\\python\\python311\\site-packages (from pyttsx3) (1.4.10)\n",
      "Requirement already satisfied: pypiwin32 in c:\\users\\gangi\\appdata\\roaming\\python\\python311\\site-packages (from pyttsx3) (223)\n",
      "Requirement already satisfied: pywin32 in c:\\programdata\\anaconda3\\lib\\site-packages (from pyttsx3) (305.1)\n"
     ]
    },
    {
     "name": "stderr",
     "output_type": "stream",
     "text": [
      "DEPRECATION: Loading egg at c:\\programdata\\anaconda3\\lib\\site-packages\\vboxapi-1.0-py3.11.egg is deprecated. pip 23.3 will enforce this behaviour change. A possible replacement is to use pip for package installation..\n"
     ]
    }
   ],
   "source": [
    "!pip3 install pyttsx3"
   ]
  },
  {
   "cell_type": "code",
   "execution_count": 23,
   "id": "cb9fe6f5",
   "metadata": {},
   "outputs": [
    {
     "ename": "RuntimeError",
     "evalue": "run loop already started",
     "output_type": "error",
     "traceback": [
      "\u001b[1;31m---------------------------------------------------------------------------\u001b[0m",
      "\u001b[1;31mRuntimeError\u001b[0m                              Traceback (most recent call last)",
      "Cell \u001b[1;32mIn[23], line 6\u001b[0m\n\u001b[0;32m      4\u001b[0m engine \u001b[38;5;241m=\u001b[39m pyttsx3\u001b[38;5;241m.\u001b[39minit() \n\u001b[0;32m      5\u001b[0m engine\u001b[38;5;241m.\u001b[39msay(\u001b[38;5;124m\"\u001b[39m\u001b[38;5;124mHi, I am text to speach\u001b[39m\u001b[38;5;124m\"\u001b[39m) \n\u001b[1;32m----> 6\u001b[0m engine\u001b[38;5;241m.\u001b[39mrunAndWait()\n",
      "File \u001b[1;32m~\\AppData\\Roaming\\Python\\Python311\\site-packages\\pyttsx3\\engine.py:180\u001b[0m, in \u001b[0;36mEngine.runAndWait\u001b[1;34m(self)\u001b[0m\n\u001b[0;32m    172\u001b[0m \u001b[38;5;250m\u001b[39m\u001b[38;5;124;03m\"\"\"\u001b[39;00m\n\u001b[0;32m    173\u001b[0m \u001b[38;5;124;03mRuns an event loop until all commands queued up until this method call\u001b[39;00m\n\u001b[0;32m    174\u001b[0m \u001b[38;5;124;03mcomplete. Blocks during the event loop and returns when the queue is\u001b[39;00m\n\u001b[1;32m   (...)\u001b[0m\n\u001b[0;32m    177\u001b[0m \u001b[38;5;124;03m@raise RuntimeError: When the loop is already running\u001b[39;00m\n\u001b[0;32m    178\u001b[0m \u001b[38;5;124;03m\"\"\"\u001b[39;00m\n\u001b[0;32m    179\u001b[0m \u001b[38;5;28;01mif\u001b[39;00m \u001b[38;5;28mself\u001b[39m\u001b[38;5;241m.\u001b[39m_inLoop:\n\u001b[1;32m--> 180\u001b[0m     \u001b[38;5;28;01mraise\u001b[39;00m \u001b[38;5;167;01mRuntimeError\u001b[39;00m(\u001b[38;5;124m'\u001b[39m\u001b[38;5;124mrun loop already started\u001b[39m\u001b[38;5;124m'\u001b[39m)\n\u001b[0;32m    181\u001b[0m \u001b[38;5;28mself\u001b[39m\u001b[38;5;241m.\u001b[39m_inLoop \u001b[38;5;241m=\u001b[39m \u001b[38;5;28;01mTrue\u001b[39;00m\n\u001b[0;32m    182\u001b[0m \u001b[38;5;28mself\u001b[39m\u001b[38;5;241m.\u001b[39m_driverLoop \u001b[38;5;241m=\u001b[39m \u001b[38;5;28;01mTrue\u001b[39;00m\n",
      "\u001b[1;31mRuntimeError\u001b[0m: run loop already started"
     ]
    }
   ],
   "source": [
    "#pip3 install pyttsx3\n",
    "#apt-get install alsa-utils\n",
    "import pyttsx3, time \n",
    "engine = pyttsx3.init() \n",
    "engine.say(\"Hi, I am text to speach\") \n",
    "engine.runAndWait()"
   ]
  },
  {
   "cell_type": "code",
   "execution_count": 27,
   "id": "413eeab7",
   "metadata": {},
   "outputs": [],
   "source": [
    "text=['This is introduction to NLP','It is likely to be useful, to people ',\\\n",
    "      'Machine learning is the new electrcity','There would be less hype around AI and more action going forward',\\\n",
    "      'python is the best tool!','R is good langauage','I like this book',\\\n",
    "      'I want more books like this']"
   ]
  },
  {
   "cell_type": "code",
   "execution_count": 28,
   "id": "cc698374",
   "metadata": {},
   "outputs": [
    {
     "ename": "RuntimeError",
     "evalue": "run loop already started",
     "output_type": "error",
     "traceback": [
      "\u001b[1;31m---------------------------------------------------------------------------\u001b[0m",
      "\u001b[1;31mRuntimeError\u001b[0m                              Traceback (most recent call last)",
      "Cell \u001b[1;32mIn[28], line 3\u001b[0m\n\u001b[0;32m      1\u001b[0m engine \u001b[38;5;241m=\u001b[39m pyttsx3\u001b[38;5;241m.\u001b[39minit() \n\u001b[0;32m      2\u001b[0m engine\u001b[38;5;241m.\u001b[39msay(text) \n\u001b[1;32m----> 3\u001b[0m engine\u001b[38;5;241m.\u001b[39mrunAndWait()\n",
      "File \u001b[1;32m~\\AppData\\Roaming\\Python\\Python311\\site-packages\\pyttsx3\\engine.py:180\u001b[0m, in \u001b[0;36mEngine.runAndWait\u001b[1;34m(self)\u001b[0m\n\u001b[0;32m    172\u001b[0m \u001b[38;5;250m\u001b[39m\u001b[38;5;124;03m\"\"\"\u001b[39;00m\n\u001b[0;32m    173\u001b[0m \u001b[38;5;124;03mRuns an event loop until all commands queued up until this method call\u001b[39;00m\n\u001b[0;32m    174\u001b[0m \u001b[38;5;124;03mcomplete. Blocks during the event loop and returns when the queue is\u001b[39;00m\n\u001b[1;32m   (...)\u001b[0m\n\u001b[0;32m    177\u001b[0m \u001b[38;5;124;03m@raise RuntimeError: When the loop is already running\u001b[39;00m\n\u001b[0;32m    178\u001b[0m \u001b[38;5;124;03m\"\"\"\u001b[39;00m\n\u001b[0;32m    179\u001b[0m \u001b[38;5;28;01mif\u001b[39;00m \u001b[38;5;28mself\u001b[39m\u001b[38;5;241m.\u001b[39m_inLoop:\n\u001b[1;32m--> 180\u001b[0m     \u001b[38;5;28;01mraise\u001b[39;00m \u001b[38;5;167;01mRuntimeError\u001b[39;00m(\u001b[38;5;124m'\u001b[39m\u001b[38;5;124mrun loop already started\u001b[39m\u001b[38;5;124m'\u001b[39m)\n\u001b[0;32m    181\u001b[0m \u001b[38;5;28mself\u001b[39m\u001b[38;5;241m.\u001b[39m_inLoop \u001b[38;5;241m=\u001b[39m \u001b[38;5;28;01mTrue\u001b[39;00m\n\u001b[0;32m    182\u001b[0m \u001b[38;5;28mself\u001b[39m\u001b[38;5;241m.\u001b[39m_driverLoop \u001b[38;5;241m=\u001b[39m \u001b[38;5;28;01mTrue\u001b[39;00m\n",
      "\u001b[1;31mRuntimeError\u001b[0m: run loop already started"
     ]
    }
   ],
   "source": [
    "engine = pyttsx3.init() \n",
    "engine.say(text) \n",
    "engine.runAndWait()"
   ]
  },
  {
   "cell_type": "code",
   "execution_count": 29,
   "id": "18aaaf67",
   "metadata": {},
   "outputs": [
    {
     "name": "stdout",
     "output_type": "stream",
     "text": [
      "150\n",
      "1.0\n"
     ]
    },
    {
     "ename": "RuntimeError",
     "evalue": "run loop already started",
     "output_type": "error",
     "traceback": [
      "\u001b[1;31m---------------------------------------------------------------------------\u001b[0m",
      "\u001b[1;31mRuntimeError\u001b[0m                              Traceback (most recent call last)",
      "Cell \u001b[1;32mIn[29], line 18\u001b[0m\n\u001b[0;32m     16\u001b[0m engine\u001b[38;5;241m.\u001b[39msay(\u001b[38;5;124m'\u001b[39m\u001b[38;5;124mMy current speaking rate is \u001b[39m\u001b[38;5;124m'\u001b[39m \u001b[38;5;241m+\u001b[39m \u001b[38;5;28mstr\u001b[39m(rate))\n\u001b[0;32m     17\u001b[0m engine\u001b[38;5;241m.\u001b[39msay(\u001b[38;5;124m'\u001b[39m\u001b[38;5;124mMy current speaking volume is \u001b[39m\u001b[38;5;124m'\u001b[39m \u001b[38;5;241m+\u001b[39m \u001b[38;5;28mstr\u001b[39m(volume))\n\u001b[1;32m---> 18\u001b[0m engine\u001b[38;5;241m.\u001b[39mrunAndWait()\n\u001b[0;32m     19\u001b[0m engine\u001b[38;5;241m.\u001b[39mstop()\n",
      "File \u001b[1;32m~\\AppData\\Roaming\\Python\\Python311\\site-packages\\pyttsx3\\engine.py:180\u001b[0m, in \u001b[0;36mEngine.runAndWait\u001b[1;34m(self)\u001b[0m\n\u001b[0;32m    172\u001b[0m \u001b[38;5;250m\u001b[39m\u001b[38;5;124;03m\"\"\"\u001b[39;00m\n\u001b[0;32m    173\u001b[0m \u001b[38;5;124;03mRuns an event loop until all commands queued up until this method call\u001b[39;00m\n\u001b[0;32m    174\u001b[0m \u001b[38;5;124;03mcomplete. Blocks during the event loop and returns when the queue is\u001b[39;00m\n\u001b[1;32m   (...)\u001b[0m\n\u001b[0;32m    177\u001b[0m \u001b[38;5;124;03m@raise RuntimeError: When the loop is already running\u001b[39;00m\n\u001b[0;32m    178\u001b[0m \u001b[38;5;124;03m\"\"\"\u001b[39;00m\n\u001b[0;32m    179\u001b[0m \u001b[38;5;28;01mif\u001b[39;00m \u001b[38;5;28mself\u001b[39m\u001b[38;5;241m.\u001b[39m_inLoop:\n\u001b[1;32m--> 180\u001b[0m     \u001b[38;5;28;01mraise\u001b[39;00m \u001b[38;5;167;01mRuntimeError\u001b[39;00m(\u001b[38;5;124m'\u001b[39m\u001b[38;5;124mrun loop already started\u001b[39m\u001b[38;5;124m'\u001b[39m)\n\u001b[0;32m    181\u001b[0m \u001b[38;5;28mself\u001b[39m\u001b[38;5;241m.\u001b[39m_inLoop \u001b[38;5;241m=\u001b[39m \u001b[38;5;28;01mTrue\u001b[39;00m\n\u001b[0;32m    182\u001b[0m \u001b[38;5;28mself\u001b[39m\u001b[38;5;241m.\u001b[39m_driverLoop \u001b[38;5;241m=\u001b[39m \u001b[38;5;28;01mTrue\u001b[39;00m\n",
      "\u001b[1;31mRuntimeError\u001b[0m: run loop already started"
     ]
    }
   ],
   "source": [
    "import pyttsx3\n",
    "engine = pyttsx3.init() # object creation\n",
    "\"\"\" RATE\"\"\"\n",
    "rate = engine.getProperty('rate')   # getting details of current speaking rate\n",
    "print (rate)                        #printing current voice rate\n",
    "engine.setProperty('rate', 150)     # setting up new voice rate\n",
    "\"\"\"VOLUME\"\"\"\n",
    "volume = engine.getProperty('volume')   #getting to know current volume level (min=0 and max=1)\n",
    "print (volume)                          #printing current volume level\n",
    "engine.setProperty('volume',1.0)    # setting up volume level  between 0 and 1\n",
    "\"\"\"VOICE\"\"\"\n",
    "voices = engine.getProperty('voices')       #getting details of current voice\n",
    "#engine.setProperty('voice', voices[0].id)  #changing index, changes voices. o for male\n",
    "engine.setProperty('voice', voices[1].id)   #changing index, changes voices. 1 for female\n",
    "engine.say(\"Hello World!\")\n",
    "engine.say('My current speaking rate is ' + str(rate))\n",
    "engine.say('My current speaking volume is ' + str(volume))\n",
    "engine.runAndWait()\n",
    "engine.stop()"
   ]
  },
  {
   "cell_type": "code",
   "execution_count": 30,
   "id": "cd2ee387",
   "metadata": {},
   "outputs": [
    {
     "name": "stdout",
     "output_type": "stream",
     "text": [
      "Defaulting to user installation because normal site-packages is not writeable\n",
      "Collecting goslate\n",
      "  Using cached goslate-1.5.4.tar.gz (14 kB)\n",
      "  Preparing metadata (setup.py): started\n",
      "  Preparing metadata (setup.py): finished with status 'done'\n",
      "Collecting futures (from goslate)\n",
      "  Using cached futures-3.0.5.tar.gz (25 kB)\n",
      "  Preparing metadata (setup.py): started\n",
      "  Preparing metadata (setup.py): finished with status 'error'\n"
     ]
    },
    {
     "name": "stderr",
     "output_type": "stream",
     "text": [
      "DEPRECATION: Loading egg at c:\\programdata\\anaconda3\\lib\\site-packages\\vboxapi-1.0-py3.11.egg is deprecated. pip 23.3 will enforce this behaviour change. A possible replacement is to use pip for package installation..\n",
      "  error: subprocess-exited-with-error\n",
      "  \n",
      "  python setup.py egg_info did not run successfully.\n",
      "  exit code: 1\n",
      "  \n",
      "  [30 lines of output]\n",
      "  Traceback (most recent call last):\n",
      "    File \"<string>\", line 2, in <module>\n",
      "    File \"<pip-setuptools-caller>\", line 14, in <module>\n",
      "    File \"C:\\ProgramData\\anaconda3\\Lib\\site-packages\\setuptools\\__init__.py\", line 270, in <module>\n",
      "      monkey.patch_all()\n",
      "    File \"C:\\ProgramData\\anaconda3\\Lib\\site-packages\\setuptools\\monkey.py\", line 97, in patch_all\n",
      "      patch_for_msvc_specialized_compiler()\n",
      "    File \"C:\\ProgramData\\anaconda3\\Lib\\site-packages\\setuptools\\monkey.py\", line 157, in patch_for_msvc_specialized_compiler\n",
      "      patch_func(*msvc14('_get_vc_env'))\n",
      "                  ^^^^^^^^^^^^^^^^^^^^^\n",
      "    File \"C:\\ProgramData\\anaconda3\\Lib\\site-packages\\setuptools\\monkey.py\", line 147, in patch_params\n",
      "      mod = import_module(mod_name)\n",
      "            ^^^^^^^^^^^^^^^^^^^^^^^\n",
      "    File \"C:\\ProgramData\\anaconda3\\Lib\\importlib\\__init__.py\", line 126, in import_module\n",
      "      return _bootstrap._gcd_import(name[level:], package, level)\n",
      "             ^^^^^^^^^^^^^^^^^^^^^^^^^^^^^^^^^^^^^^^^^^^^^^^^^^^^\n",
      "    File \"C:\\ProgramData\\anaconda3\\Lib\\site-packages\\setuptools\\_distutils\\_msvccompiler.py\", line 20, in <module>\n",
      "      import unittest.mock as mock\n",
      "    File \"C:\\ProgramData\\anaconda3\\Lib\\unittest\\mock.py\", line 26, in <module>\n",
      "      import asyncio\n",
      "    File \"C:\\ProgramData\\anaconda3\\Lib\\asyncio\\__init__.py\", line 8, in <module>\n",
      "      from .base_events import *\n",
      "    File \"C:\\ProgramData\\anaconda3\\Lib\\asyncio\\base_events.py\", line 18, in <module>\n",
      "      import concurrent.futures\n",
      "    File \"C:\\Users\\gangi\\AppData\\Local\\Temp\\pip-install-25dm_qwz\\futures_595330e8f5d64e4cbc8b188c268656bf\\concurrent\\futures\\__init__.py\", line 8, in <module>\n",
      "      from concurrent.futures._base import (FIRST_COMPLETED,\n",
      "    File \"C:\\Users\\gangi\\AppData\\Local\\Temp\\pip-install-25dm_qwz\\futures_595330e8f5d64e4cbc8b188c268656bf\\concurrent\\futures\\_base.py\", line 357\n",
      "      raise type(self._exception), self._exception, self._traceback\n",
      "                                 ^\n",
      "  SyntaxError: invalid syntax\n",
      "  [end of output]\n",
      "  \n",
      "  note: This error originates from a subprocess, and is likely not a problem with pip.\n",
      "error: metadata-generation-failed\n",
      "\n",
      "Encountered error while generating package metadata.\n",
      "\n",
      "See above for output.\n",
      "\n",
      "note: This is an issue with the package mentioned above, not pip.\n",
      "hint: See above for details.\n"
     ]
    }
   ],
   "source": [
    "!pip install goslate"
   ]
  },
  {
   "cell_type": "code",
   "execution_count": 31,
   "id": "0be311b0",
   "metadata": {},
   "outputs": [],
   "source": [
    "text = \"Bonjour le monde\""
   ]
  },
  {
   "cell_type": "code",
   "execution_count": 32,
   "id": "51d21f92",
   "metadata": {},
   "outputs": [
    {
     "ename": "ModuleNotFoundError",
     "evalue": "No module named 'goslate'",
     "output_type": "error",
     "traceback": [
      "\u001b[1;31m---------------------------------------------------------------------------\u001b[0m",
      "\u001b[1;31mModuleNotFoundError\u001b[0m                       Traceback (most recent call last)",
      "Cell \u001b[1;32mIn[32], line 1\u001b[0m\n\u001b[1;32m----> 1\u001b[0m \u001b[38;5;28;01mimport\u001b[39;00m \u001b[38;5;21;01mgoslate\u001b[39;00m\n",
      "\u001b[1;31mModuleNotFoundError\u001b[0m: No module named 'goslate'"
     ]
    }
   ],
   "source": [
    "import goslate"
   ]
  },
  {
   "cell_type": "code",
   "execution_count": null,
   "id": "21663c8a",
   "metadata": {},
   "outputs": [],
   "source": [
    "gs = goslate.Goslate()\n",
    "translatedText = gs.translate(text,'en')\n",
    "print(translatedText)"
   ]
  },
  {
   "cell_type": "code",
   "execution_count": 33,
   "id": "899af399",
   "metadata": {},
   "outputs": [
    {
     "name": "stdout",
     "output_type": "stream",
     "text": [
      "Defaulting to user installation because normal site-packages is not writeable\n",
      "Collecting translate\n",
      "  Obtaining dependency information for translate from https://files.pythonhosted.org/packages/e1/54/df0d3e62636f291d716caa44c5c9590af8e6f225c59d7874051da6428c06/translate-3.6.1-py2.py3-none-any.whl.metadata\n",
      "  Downloading translate-3.6.1-py2.py3-none-any.whl.metadata (7.7 kB)\n",
      "Requirement already satisfied: click in c:\\programdata\\anaconda3\\lib\\site-packages (from translate) (8.0.4)\n",
      "Requirement already satisfied: lxml in c:\\programdata\\anaconda3\\lib\\site-packages (from translate) (4.9.2)\n",
      "Requirement already satisfied: requests in c:\\programdata\\anaconda3\\lib\\site-packages (from translate) (2.31.0)\n",
      "Collecting libretranslatepy==2.1.1 (from translate)\n",
      "  Obtaining dependency information for libretranslatepy==2.1.1 from https://files.pythonhosted.org/packages/24/54/044ecbf4eeba3f3feee70d496f34f397dc20714cdb80dfa8bc01e7409f88/libretranslatepy-2.1.1-py3-none-any.whl.metadata\n",
      "  Downloading libretranslatepy-2.1.1-py3-none-any.whl.metadata (233 bytes)\n",
      "Requirement already satisfied: colorama in c:\\programdata\\anaconda3\\lib\\site-packages (from click->translate) (0.4.6)\n",
      "Requirement already satisfied: charset-normalizer<4,>=2 in c:\\programdata\\anaconda3\\lib\\site-packages (from requests->translate) (2.0.4)\n",
      "Requirement already satisfied: idna<4,>=2.5 in c:\\programdata\\anaconda3\\lib\\site-packages (from requests->translate) (3.4)\n",
      "Requirement already satisfied: urllib3<3,>=1.21.1 in c:\\programdata\\anaconda3\\lib\\site-packages (from requests->translate) (1.26.16)\n",
      "Requirement already satisfied: certifi>=2017.4.17 in c:\\programdata\\anaconda3\\lib\\site-packages (from requests->translate) (2023.7.22)\n",
      "Downloading translate-3.6.1-py2.py3-none-any.whl (12 kB)\n",
      "Downloading libretranslatepy-2.1.1-py3-none-any.whl (3.2 kB)\n",
      "Installing collected packages: libretranslatepy, translate\n",
      "Successfully installed libretranslatepy-2.1.1 translate-3.6.1\n"
     ]
    },
    {
     "name": "stderr",
     "output_type": "stream",
     "text": [
      "DEPRECATION: Loading egg at c:\\programdata\\anaconda3\\lib\\site-packages\\vboxapi-1.0-py3.11.egg is deprecated. pip 23.3 will enforce this behaviour change. A possible replacement is to use pip for package installation..\n",
      "  WARNING: The script translate-cli.exe is installed in 'C:\\Users\\gangi\\AppData\\Roaming\\Python\\Python311\\Scripts' which is not on PATH.\n",
      "  Consider adding this directory to PATH or, if you prefer to suppress this warning, use --no-warn-script-location.\n"
     ]
    }
   ],
   "source": [
    "!pip install translate"
   ]
  },
  {
   "cell_type": "code",
   "execution_count": 34,
   "id": "b6900ce9",
   "metadata": {},
   "outputs": [
    {
     "data": {
      "text/plain": [
       "'कशी आहेस?'"
      ]
     },
     "execution_count": 34,
     "metadata": {},
     "output_type": "execute_result"
    }
   ],
   "source": [
    "# # traslating text to marathi\n",
    "from translate import Translator\n",
    "translator= Translator(to_lang=\"mr\")\n",
    "translation = translator.translate(\"How are you?\")\n",
    "translation"
   ]
  },
  {
   "cell_type": "code",
   "execution_count": 35,
   "id": "b5837d9c",
   "metadata": {},
   "outputs": [
    {
     "data": {
      "text/plain": [
       "'ఎలా ఉనారు ?'"
      ]
     },
     "execution_count": 35,
     "metadata": {},
     "output_type": "execute_result"
    }
   ],
   "source": [
    "# # traslating text to telugu\n",
    "from translate import Translator\n",
    "translator= Translator(to_lang=\"te\")\n",
    "translation = translator.translate(\"How are you?\")\n",
    "translation"
   ]
  },
  {
   "cell_type": "code",
   "execution_count": 36,
   "id": "fd21b66c",
   "metadata": {},
   "outputs": [
    {
     "data": {
      "text/plain": [
       "'كيف حالك؟'"
      ]
     },
     "execution_count": 36,
     "metadata": {},
     "output_type": "execute_result"
    }
   ],
   "source": [
    "# # traslating text to arabic\n",
    "from translate import Translator\n",
    "translator= Translator(to_lang=\"ar\")\n",
    "translation = translator.translate(\"How are you?\")\n",
    "translation"
   ]
  },
  {
   "cell_type": "code",
   "execution_count": 38,
   "id": "66ed924c",
   "metadata": {},
   "outputs": [
    {
     "data": {
      "text/plain": [
       "'O tsogile jang?'"
      ]
     },
     "execution_count": 38,
     "metadata": {},
     "output_type": "execute_result"
    }
   ],
   "source": [
    "# # traslating text to tamil\n",
    "from translate import Translator\n",
    "translator= Translator(to_lang=\"tn\")\n",
    "translation = translator.translate(\"How are you?\")\n",
    "translation"
   ]
  },
  {
   "cell_type": "markdown",
   "id": "bba7c5a8",
   "metadata": {},
   "source": [
    "# speech_to_text"
   ]
  },
  {
   "cell_type": "code",
   "execution_count": 39,
   "id": "11d50605",
   "metadata": {},
   "outputs": [
    {
     "name": "stdout",
     "output_type": "stream",
     "text": [
      "Defaulting to user installation because normal site-packages is not writeable\n",
      "Collecting SpeechRecognition\n",
      "  Obtaining dependency information for SpeechRecognition from https://files.pythonhosted.org/packages/09/47/5dcfcd8a2c8c2981986fc196e98fc57bc1ecb5233b2d54dac0c0d448b019/SpeechRecognition-3.14.1-py3-none-any.whl.metadata\n",
      "  Downloading SpeechRecognition-3.14.1-py3-none-any.whl.metadata (31 kB)\n",
      "Requirement already satisfied: typing-extensions in c:\\users\\gangi\\appdata\\roaming\\python\\python311\\site-packages (from SpeechRecognition) (4.12.2)\n",
      "Downloading SpeechRecognition-3.14.1-py3-none-any.whl (32.9 MB)\n",
      "   ---------------------------------------- 0.0/32.9 MB ? eta -:--:--\n",
      "   ---------------------------------------- 0.1/32.9 MB 3.2 MB/s eta 0:00:11\n",
      "   ---------------------------------------- 0.1/32.9 MB 3.2 MB/s eta 0:00:11\n",
      "   ---------------------------------------- 0.1/32.9 MB 651.6 kB/s eta 0:00:51\n",
      "   ---------------------------------------- 0.2/32.9 MB 978.3 kB/s eta 0:00:34\n",
      "   ---------------------------------------- 0.2/32.9 MB 1.3 MB/s eta 0:00:27\n",
      "   ---------------------------------------- 0.4/32.9 MB 1.6 MB/s eta 0:00:21\n",
      "    --------------------------------------- 0.5/32.9 MB 1.7 MB/s eta 0:00:19\n",
      "    --------------------------------------- 0.8/32.9 MB 2.2 MB/s eta 0:00:15\n",
      "   - -------------------------------------- 0.9/32.9 MB 2.3 MB/s eta 0:00:15\n",
      "   - -------------------------------------- 0.9/32.9 MB 2.3 MB/s eta 0:00:15\n",
      "   - -------------------------------------- 1.1/32.9 MB 2.2 MB/s eta 0:00:15\n",
      "   - -------------------------------------- 1.2/32.9 MB 2.3 MB/s eta 0:00:14\n",
      "   - -------------------------------------- 1.2/32.9 MB 2.3 MB/s eta 0:00:14\n",
      "   - -------------------------------------- 1.3/32.9 MB 2.1 MB/s eta 0:00:16\n",
      "   - -------------------------------------- 1.5/32.9 MB 2.2 MB/s eta 0:00:15\n",
      "   -- ------------------------------------- 1.7/32.9 MB 2.3 MB/s eta 0:00:14\n",
      "   -- ------------------------------------- 2.0/32.9 MB 2.5 MB/s eta 0:00:13\n",
      "   -- ------------------------------------- 2.2/32.9 MB 2.6 MB/s eta 0:00:12\n",
      "   -- ------------------------------------- 2.4/32.9 MB 2.7 MB/s eta 0:00:12\n",
      "   --- ------------------------------------ 2.5/32.9 MB 2.7 MB/s eta 0:00:12\n",
      "   --- ------------------------------------ 2.5/32.9 MB 2.6 MB/s eta 0:00:12\n",
      "   --- ------------------------------------ 2.5/32.9 MB 2.6 MB/s eta 0:00:12\n",
      "   --- ------------------------------------ 2.6/32.9 MB 2.4 MB/s eta 0:00:13\n",
      "   --- ------------------------------------ 2.8/32.9 MB 2.5 MB/s eta 0:00:12\n",
      "   --- ------------------------------------ 2.9/32.9 MB 2.5 MB/s eta 0:00:12\n",
      "   --- ------------------------------------ 3.1/32.9 MB 2.6 MB/s eta 0:00:12\n",
      "   ---- ----------------------------------- 3.4/32.9 MB 2.7 MB/s eta 0:00:12\n",
      "   ---- ----------------------------------- 3.7/32.9 MB 2.8 MB/s eta 0:00:11\n",
      "   ---- ----------------------------------- 4.0/32.9 MB 3.0 MB/s eta 0:00:10\n",
      "   ----- ---------------------------------- 4.3/32.9 MB 3.1 MB/s eta 0:00:10\n",
      "   ----- ---------------------------------- 4.5/32.9 MB 3.1 MB/s eta 0:00:10\n",
      "   ----- ---------------------------------- 4.6/32.9 MB 3.1 MB/s eta 0:00:10\n",
      "   ----- ---------------------------------- 4.8/32.9 MB 3.1 MB/s eta 0:00:09\n",
      "   ------ --------------------------------- 5.0/32.9 MB 3.2 MB/s eta 0:00:09\n",
      "   ------ --------------------------------- 5.4/32.9 MB 3.4 MB/s eta 0:00:09\n",
      "   ------ --------------------------------- 5.6/32.9 MB 3.4 MB/s eta 0:00:09\n",
      "   ------- -------------------------------- 6.0/32.9 MB 3.5 MB/s eta 0:00:08\n",
      "   ------- -------------------------------- 6.2/32.9 MB 3.5 MB/s eta 0:00:08\n",
      "   ------- -------------------------------- 6.4/32.9 MB 3.6 MB/s eta 0:00:08\n",
      "   -------- ------------------------------- 6.7/32.9 MB 3.6 MB/s eta 0:00:08\n",
      "   -------- ------------------------------- 6.9/32.9 MB 3.7 MB/s eta 0:00:08\n",
      "   -------- ------------------------------- 7.2/32.9 MB 3.7 MB/s eta 0:00:07\n",
      "   --------- ------------------------------ 7.5/32.9 MB 3.8 MB/s eta 0:00:07\n",
      "   --------- ------------------------------ 7.7/32.9 MB 3.8 MB/s eta 0:00:07\n",
      "   --------- ------------------------------ 7.8/32.9 MB 3.8 MB/s eta 0:00:07\n",
      "   --------- ------------------------------ 8.1/32.9 MB 3.8 MB/s eta 0:00:07\n",
      "   ---------- ----------------------------- 8.3/32.9 MB 3.8 MB/s eta 0:00:07\n",
      "   ---------- ----------------------------- 8.5/32.9 MB 3.8 MB/s eta 0:00:07\n",
      "   ---------- ----------------------------- 8.7/32.9 MB 3.8 MB/s eta 0:00:07\n",
      "   ---------- ----------------------------- 8.9/32.9 MB 3.8 MB/s eta 0:00:07\n",
      "   ---------- ----------------------------- 9.0/32.9 MB 3.8 MB/s eta 0:00:07\n",
      "   ----------- ---------------------------- 9.3/32.9 MB 3.8 MB/s eta 0:00:07\n",
      "   ------------ --------------------------- 9.9/32.9 MB 4.0 MB/s eta 0:00:06\n",
      "   ------------ --------------------------- 10.2/32.9 MB 4.1 MB/s eta 0:00:06\n",
      "   ------------ --------------------------- 10.5/32.9 MB 4.3 MB/s eta 0:00:06\n",
      "   ------------ --------------------------- 10.6/32.9 MB 4.5 MB/s eta 0:00:05\n",
      "   ------------- -------------------------- 10.8/32.9 MB 4.4 MB/s eta 0:00:06\n",
      "   ------------- -------------------------- 11.0/32.9 MB 4.4 MB/s eta 0:00:05\n",
      "   ------------- -------------------------- 11.4/32.9 MB 4.6 MB/s eta 0:00:05\n",
      "   -------------- ------------------------- 11.8/32.9 MB 5.0 MB/s eta 0:00:05\n",
      "   -------------- ------------------------- 11.9/32.9 MB 5.0 MB/s eta 0:00:05\n",
      "   --------------- ------------------------ 12.6/32.9 MB 5.2 MB/s eta 0:00:04\n",
      "   --------------- ------------------------ 12.9/32.9 MB 5.6 MB/s eta 0:00:04\n",
      "   ---------------- ----------------------- 13.4/32.9 MB 5.8 MB/s eta 0:00:04\n",
      "   ---------------- ----------------------- 13.8/32.9 MB 5.8 MB/s eta 0:00:04\n",
      "   ----------------- ---------------------- 14.2/32.9 MB 6.0 MB/s eta 0:00:04\n",
      "   ----------------- ---------------------- 14.2/32.9 MB 6.0 MB/s eta 0:00:04\n",
      "   ----------------- ---------------------- 14.6/32.9 MB 5.8 MB/s eta 0:00:04\n",
      "   ------------------ --------------------- 15.0/32.9 MB 6.1 MB/s eta 0:00:03\n",
      "   ------------------ --------------------- 15.2/32.9 MB 6.1 MB/s eta 0:00:03\n",
      "   ------------------ --------------------- 15.4/32.9 MB 6.0 MB/s eta 0:00:03\n",
      "   ------------------ --------------------- 15.6/32.9 MB 5.9 MB/s eta 0:00:03\n",
      "   ------------------- -------------------- 16.0/32.9 MB 6.1 MB/s eta 0:00:03\n",
      "   ------------------- -------------------- 16.1/32.9 MB 6.0 MB/s eta 0:00:03\n",
      "   ------------------- -------------------- 16.3/32.9 MB 5.8 MB/s eta 0:00:03\n",
      "   ------------------- -------------------- 16.3/32.9 MB 5.8 MB/s eta 0:00:03\n",
      "   ------------------- -------------------- 16.3/32.9 MB 5.8 MB/s eta 0:00:03\n",
      "   -------------------- ------------------- 16.9/32.9 MB 5.7 MB/s eta 0:00:03\n",
      "   -------------------- ------------------- 17.1/32.9 MB 5.8 MB/s eta 0:00:03\n",
      "   --------------------- ------------------ 17.3/32.9 MB 5.7 MB/s eta 0:00:03\n",
      "   --------------------- ------------------ 17.4/32.9 MB 5.6 MB/s eta 0:00:03\n",
      "   --------------------- ------------------ 17.6/32.9 MB 5.5 MB/s eta 0:00:03\n",
      "   --------------------- ------------------ 17.7/32.9 MB 5.4 MB/s eta 0:00:03\n",
      "   --------------------- ------------------ 17.9/32.9 MB 5.4 MB/s eta 0:00:03\n",
      "   ---------------------- ----------------- 18.2/32.9 MB 5.5 MB/s eta 0:00:03\n",
      "   ---------------------- ----------------- 18.4/32.9 MB 5.5 MB/s eta 0:00:03\n",
      "   ---------------------- ----------------- 18.5/32.9 MB 5.5 MB/s eta 0:00:03\n",
      "   ---------------------- ----------------- 18.8/32.9 MB 5.5 MB/s eta 0:00:03\n",
      "   ---------------------- ----------------- 18.8/32.9 MB 5.5 MB/s eta 0:00:03\n",
      "   ----------------------- ---------------- 19.0/32.9 MB 5.4 MB/s eta 0:00:03\n",
      "   ----------------------- ---------------- 19.0/32.9 MB 5.4 MB/s eta 0:00:03\n",
      "   ----------------------- ---------------- 19.1/32.9 MB 5.3 MB/s eta 0:00:03\n",
      "   ----------------------- ---------------- 19.4/32.9 MB 5.2 MB/s eta 0:00:03\n",
      "   ----------------------- ---------------- 19.5/32.9 MB 5.2 MB/s eta 0:00:03\n",
      "   ----------------------- ---------------- 19.5/32.9 MB 5.2 MB/s eta 0:00:03\n",
      "   ----------------------- ---------------- 19.5/32.9 MB 4.9 MB/s eta 0:00:03\n",
      "   ----------------------- ---------------- 19.5/32.9 MB 4.9 MB/s eta 0:00:03\n",
      "   ----------------------- ---------------- 19.5/32.9 MB 4.9 MB/s eta 0:00:03\n",
      "   ----------------------- ---------------- 19.7/32.9 MB 4.6 MB/s eta 0:00:03\n",
      "   ------------------------ --------------- 19.9/32.9 MB 4.6 MB/s eta 0:00:03\n",
      "   ------------------------ --------------- 19.9/32.9 MB 4.5 MB/s eta 0:00:03\n",
      "   ------------------------ --------------- 20.0/32.9 MB 4.5 MB/s eta 0:00:03\n",
      "   ------------------------ --------------- 20.1/32.9 MB 4.3 MB/s eta 0:00:03\n",
      "   ------------------------ --------------- 20.1/32.9 MB 4.3 MB/s eta 0:00:03\n",
      "   ------------------------ --------------- 20.2/32.9 MB 4.2 MB/s eta 0:00:04\n",
      "   ------------------------ --------------- 20.3/32.9 MB 4.2 MB/s eta 0:00:03\n",
      "   ------------------------ --------------- 20.3/32.9 MB 4.2 MB/s eta 0:00:03\n",
      "   ------------------------ --------------- 20.3/32.9 MB 4.1 MB/s eta 0:00:04\n",
      "   ------------------------ --------------- 20.4/32.9 MB 4.0 MB/s eta 0:00:04\n",
      "   ------------------------ --------------- 20.4/32.9 MB 4.0 MB/s eta 0:00:04\n",
      "   ------------------------- -------------- 20.6/32.9 MB 3.9 MB/s eta 0:00:04\n",
      "   ------------------------- -------------- 20.6/32.9 MB 3.9 MB/s eta 0:00:04\n",
      "   ------------------------- -------------- 20.7/32.9 MB 3.8 MB/s eta 0:00:04\n",
      "   ------------------------- -------------- 20.8/32.9 MB 3.8 MB/s eta 0:00:04\n",
      "   ------------------------- -------------- 20.8/32.9 MB 3.8 MB/s eta 0:00:04\n",
      "   ------------------------- -------------- 21.1/32.9 MB 3.8 MB/s eta 0:00:04\n",
      "   ------------------------- -------------- 21.2/32.9 MB 3.7 MB/s eta 0:00:04\n",
      "   -------------------------- ------------- 21.6/32.9 MB 3.7 MB/s eta 0:00:04\n",
      "   -------------------------- ------------- 21.8/32.9 MB 3.7 MB/s eta 0:00:03\n",
      "   -------------------------- ------------- 22.0/32.9 MB 3.6 MB/s eta 0:00:03\n",
      "   -------------------------- ------------- 22.0/32.9 MB 3.6 MB/s eta 0:00:03\n",
      "   --------------------------- ------------ 22.4/32.9 MB 3.7 MB/s eta 0:00:03\n",
      "   --------------------------- ------------ 22.5/32.9 MB 3.6 MB/s eta 0:00:03\n",
      "   --------------------------- ------------ 22.6/32.9 MB 3.5 MB/s eta 0:00:03\n",
      "   --------------------------- ------------ 22.6/32.9 MB 3.5 MB/s eta 0:00:03\n",
      "   --------------------------- ------------ 22.8/32.9 MB 3.5 MB/s eta 0:00:03\n",
      "   ---------------------------- ----------- 23.0/32.9 MB 3.4 MB/s eta 0:00:03\n",
      "   ---------------------------- ----------- 23.1/32.9 MB 3.4 MB/s eta 0:00:03\n",
      "   ---------------------------- ----------- 23.2/32.9 MB 3.3 MB/s eta 0:00:03\n",
      "   ---------------------------- ----------- 23.3/32.9 MB 3.3 MB/s eta 0:00:03\n",
      "   ---------------------------- ----------- 23.4/32.9 MB 3.2 MB/s eta 0:00:03\n",
      "   ---------------------------- ----------- 23.5/32.9 MB 3.2 MB/s eta 0:00:03\n",
      "   ---------------------------- ----------- 23.6/32.9 MB 3.2 MB/s eta 0:00:03\n",
      "   ---------------------------- ----------- 23.6/32.9 MB 3.2 MB/s eta 0:00:03\n",
      "   ---------------------------- ----------- 23.7/32.9 MB 3.1 MB/s eta 0:00:03\n",
      "   ---------------------------- ----------- 23.7/32.9 MB 3.1 MB/s eta 0:00:03\n",
      "   ---------------------------- ----------- 23.8/32.9 MB 3.0 MB/s eta 0:00:03\n",
      "   ---------------------------- ----------- 23.8/32.9 MB 3.0 MB/s eta 0:00:03\n",
      "   ---------------------------- ----------- 23.8/32.9 MB 3.0 MB/s eta 0:00:03\n",
      "   ---------------------------- ----------- 23.8/32.9 MB 3.0 MB/s eta 0:00:03\n",
      "   ----------------------------- ---------- 24.0/32.9 MB 2.9 MB/s eta 0:00:04\n",
      "   ----------------------------- ---------- 24.1/32.9 MB 2.8 MB/s eta 0:00:04\n",
      "   ----------------------------- ---------- 24.2/32.9 MB 2.8 MB/s eta 0:00:04\n",
      "   ----------------------------- ---------- 24.3/32.9 MB 2.8 MB/s eta 0:00:04\n",
      "   ----------------------------- ---------- 24.4/32.9 MB 2.8 MB/s eta 0:00:04\n",
      "   ----------------------------- ---------- 24.5/32.9 MB 2.8 MB/s eta 0:00:04\n",
      "   ----------------------------- ---------- 24.6/32.9 MB 2.8 MB/s eta 0:00:03\n",
      "   ------------------------------ --------- 24.7/32.9 MB 2.7 MB/s eta 0:00:03\n",
      "   ------------------------------ --------- 24.8/32.9 MB 2.7 MB/s eta 0:00:04\n",
      "   ------------------------------ --------- 24.8/32.9 MB 2.7 MB/s eta 0:00:04\n",
      "   ------------------------------ --------- 24.8/32.9 MB 2.7 MB/s eta 0:00:04\n",
      "   ------------------------------ --------- 24.8/32.9 MB 2.6 MB/s eta 0:00:04\n",
      "   ------------------------------ --------- 24.9/32.9 MB 2.6 MB/s eta 0:00:04\n",
      "   ------------------------------ --------- 24.9/32.9 MB 2.5 MB/s eta 0:00:04\n",
      "   ------------------------------ --------- 25.0/32.9 MB 2.5 MB/s eta 0:00:04\n",
      "   ------------------------------ --------- 25.2/32.9 MB 2.5 MB/s eta 0:00:04\n",
      "   ------------------------------ --------- 25.3/32.9 MB 2.5 MB/s eta 0:00:04\n",
      "   ------------------------------- -------- 25.5/32.9 MB 2.5 MB/s eta 0:00:03\n",
      "   ------------------------------- -------- 25.6/32.9 MB 2.5 MB/s eta 0:00:03\n",
      "   ------------------------------- -------- 25.6/32.9 MB 2.5 MB/s eta 0:00:03\n",
      "   ------------------------------- -------- 25.6/32.9 MB 2.5 MB/s eta 0:00:03\n",
      "   ------------------------------- -------- 25.7/32.9 MB 2.4 MB/s eta 0:00:03\n",
      "   ------------------------------- -------- 25.7/32.9 MB 2.4 MB/s eta 0:00:03\n",
      "   ------------------------------- -------- 25.8/32.9 MB 2.4 MB/s eta 0:00:03\n",
      "   ------------------------------- -------- 26.0/32.9 MB 2.3 MB/s eta 0:00:03\n",
      "   ------------------------------- -------- 26.1/32.9 MB 2.3 MB/s eta 0:00:03\n",
      "   -------------------------------- ------- 26.3/32.9 MB 2.3 MB/s eta 0:00:03\n",
      "   -------------------------------- ------- 26.4/32.9 MB 2.3 MB/s eta 0:00:03\n",
      "   -------------------------------- ------- 26.6/32.9 MB 2.4 MB/s eta 0:00:03\n",
      "   -------------------------------- ------- 26.7/32.9 MB 2.4 MB/s eta 0:00:03\n",
      "   -------------------------------- ------- 26.9/32.9 MB 2.3 MB/s eta 0:00:03\n",
      "   -------------------------------- ------- 27.1/32.9 MB 2.3 MB/s eta 0:00:03\n",
      "   --------------------------------- ------ 27.2/32.9 MB 2.3 MB/s eta 0:00:03\n",
      "   --------------------------------- ------ 27.4/32.9 MB 2.3 MB/s eta 0:00:03\n",
      "   --------------------------------- ------ 27.5/32.9 MB 2.3 MB/s eta 0:00:03\n",
      "   --------------------------------- ------ 27.6/32.9 MB 2.3 MB/s eta 0:00:03\n",
      "   --------------------------------- ------ 27.7/32.9 MB 2.3 MB/s eta 0:00:03\n",
      "   --------------------------------- ------ 27.7/32.9 MB 2.2 MB/s eta 0:00:03\n",
      "   --------------------------------- ------ 27.9/32.9 MB 2.2 MB/s eta 0:00:03\n",
      "   ---------------------------------- ----- 28.0/32.9 MB 2.2 MB/s eta 0:00:03\n",
      "   ---------------------------------- ----- 28.2/32.9 MB 2.2 MB/s eta 0:00:03\n",
      "   ---------------------------------- ----- 28.3/32.9 MB 2.2 MB/s eta 0:00:03\n",
      "   ---------------------------------- ----- 28.5/32.9 MB 2.2 MB/s eta 0:00:02\n",
      "   ---------------------------------- ----- 28.6/32.9 MB 2.2 MB/s eta 0:00:02\n",
      "   ---------------------------------- ----- 28.6/32.9 MB 2.2 MB/s eta 0:00:02\n",
      "   ---------------------------------- ----- 28.7/32.9 MB 2.2 MB/s eta 0:00:02\n",
      "   ----------------------------------- ---- 28.9/32.9 MB 2.2 MB/s eta 0:00:02\n",
      "   ----------------------------------- ---- 29.0/32.9 MB 2.2 MB/s eta 0:00:02\n",
      "   ----------------------------------- ---- 29.2/32.9 MB 2.2 MB/s eta 0:00:02\n",
      "   ----------------------------------- ---- 29.4/32.9 MB 2.2 MB/s eta 0:00:02\n",
      "   ------------------------------------ --- 29.6/32.9 MB 2.2 MB/s eta 0:00:02\n",
      "   ------------------------------------ --- 29.7/32.9 MB 2.2 MB/s eta 0:00:02\n",
      "   ------------------------------------ --- 29.9/32.9 MB 2.3 MB/s eta 0:00:02\n",
      "   ------------------------------------ --- 30.0/32.9 MB 2.3 MB/s eta 0:00:02\n",
      "   ------------------------------------ --- 30.0/32.9 MB 2.3 MB/s eta 0:00:02\n",
      "   ------------------------------------ --- 30.1/32.9 MB 2.2 MB/s eta 0:00:02\n",
      "   ------------------------------------ --- 30.1/32.9 MB 2.2 MB/s eta 0:00:02\n",
      "   ------------------------------------ --- 30.1/32.9 MB 2.2 MB/s eta 0:00:02\n",
      "   ------------------------------------ --- 30.2/32.9 MB 2.2 MB/s eta 0:00:02\n",
      "   ------------------------------------ --- 30.2/32.9 MB 2.2 MB/s eta 0:00:02\n",
      "   ------------------------------------ --- 30.2/32.9 MB 2.2 MB/s eta 0:00:02\n",
      "   ------------------------------------ --- 30.3/32.9 MB 2.2 MB/s eta 0:00:02\n",
      "   ------------------------------------ --- 30.3/32.9 MB 2.2 MB/s eta 0:00:02\n",
      "   ------------------------------------- -- 30.4/32.9 MB 2.2 MB/s eta 0:00:02\n",
      "   ------------------------------------- -- 30.5/32.9 MB 2.2 MB/s eta 0:00:02\n",
      "   ------------------------------------- -- 30.5/32.9 MB 2.2 MB/s eta 0:00:02\n",
      "   ------------------------------------- -- 30.6/32.9 MB 2.2 MB/s eta 0:00:02\n",
      "   ------------------------------------- -- 30.7/32.9 MB 2.2 MB/s eta 0:00:02\n",
      "   ------------------------------------- -- 30.7/32.9 MB 2.2 MB/s eta 0:00:01\n",
      "   ------------------------------------- -- 30.8/32.9 MB 2.2 MB/s eta 0:00:01\n",
      "   ------------------------------------- -- 30.9/32.9 MB 2.1 MB/s eta 0:00:01\n",
      "   ------------------------------------- -- 30.9/32.9 MB 2.2 MB/s eta 0:00:01\n",
      "   ------------------------------------- -- 30.9/32.9 MB 2.1 MB/s eta 0:00:01\n",
      "   ------------------------------------- -- 31.0/32.9 MB 2.1 MB/s eta 0:00:01\n",
      "   ------------------------------------- -- 31.1/32.9 MB 2.1 MB/s eta 0:00:01\n",
      "   ------------------------------------- -- 31.2/32.9 MB 2.1 MB/s eta 0:00:01\n",
      "   -------------------------------------- - 31.3/32.9 MB 2.1 MB/s eta 0:00:01\n",
      "   -------------------------------------- - 31.3/32.9 MB 2.1 MB/s eta 0:00:01\n",
      "   -------------------------------------- - 31.4/32.9 MB 2.1 MB/s eta 0:00:01\n",
      "   -------------------------------------- - 31.5/32.9 MB 2.1 MB/s eta 0:00:01\n",
      "   -------------------------------------- - 31.6/32.9 MB 2.1 MB/s eta 0:00:01\n",
      "   -------------------------------------- - 31.7/32.9 MB 2.0 MB/s eta 0:00:01\n",
      "   -------------------------------------- - 31.7/32.9 MB 2.0 MB/s eta 0:00:01\n",
      "   -------------------------------------- - 31.7/32.9 MB 2.0 MB/s eta 0:00:01\n",
      "   -------------------------------------- - 31.8/32.9 MB 2.0 MB/s eta 0:00:01\n",
      "   -------------------------------------- - 31.9/32.9 MB 2.0 MB/s eta 0:00:01\n",
      "   -------------------------------------- - 31.9/32.9 MB 2.0 MB/s eta 0:00:01\n",
      "   -------------------------------------- - 32.0/32.9 MB 2.0 MB/s eta 0:00:01\n",
      "   ---------------------------------------  32.1/32.9 MB 1.9 MB/s eta 0:00:01\n",
      "   ---------------------------------------  32.2/32.9 MB 2.0 MB/s eta 0:00:01\n",
      "   ---------------------------------------  32.2/32.9 MB 2.0 MB/s eta 0:00:01\n",
      "   ---------------------------------------  32.2/32.9 MB 2.0 MB/s eta 0:00:01\n",
      "   ---------------------------------------  32.3/32.9 MB 1.9 MB/s eta 0:00:01\n",
      "   ---------------------------------------  32.4/32.9 MB 1.9 MB/s eta 0:00:01\n",
      "   ---------------------------------------  32.4/32.9 MB 1.9 MB/s eta 0:00:01\n",
      "   ---------------------------------------  32.6/32.9 MB 1.9 MB/s eta 0:00:01\n",
      "   ---------------------------------------  32.7/32.9 MB 1.9 MB/s eta 0:00:01\n",
      "   ---------------------------------------  32.8/32.9 MB 1.9 MB/s eta 0:00:01\n",
      "   ---------------------------------------  32.8/32.9 MB 1.9 MB/s eta 0:00:01\n",
      "   ---------------------------------------  32.8/32.9 MB 1.9 MB/s eta 0:00:01\n",
      "   ---------------------------------------  32.8/32.9 MB 1.9 MB/s eta 0:00:01\n",
      "   ---------------------------------------  32.8/32.9 MB 1.9 MB/s eta 0:00:01\n",
      "   ---------------------------------------- 32.9/32.9 MB 1.8 MB/s eta 0:00:00\n",
      "Installing collected packages: SpeechRecognition\n",
      "Successfully installed SpeechRecognition-3.14.1\n"
     ]
    },
    {
     "name": "stderr",
     "output_type": "stream",
     "text": [
      "DEPRECATION: Loading egg at c:\\programdata\\anaconda3\\lib\\site-packages\\vboxapi-1.0-py3.11.egg is deprecated. pip 23.3 will enforce this behaviour change. A possible replacement is to use pip for package installation..\n"
     ]
    }
   ],
   "source": [
    "!pip install SpeechRecognition"
   ]
  },
  {
   "cell_type": "code",
   "execution_count": 40,
   "id": "b34ccd22",
   "metadata": {},
   "outputs": [
    {
     "name": "stdout",
     "output_type": "stream",
     "text": [
      "Defaulting to user installation because normal site-packages is not writeable\n",
      "Collecting PyAudio\n",
      "  Obtaining dependency information for PyAudio from https://files.pythonhosted.org/packages/82/d8/f043c854aad450a76e476b0cf9cda1956419e1dacf1062eb9df3c0055abe/PyAudio-0.2.14-cp311-cp311-win_amd64.whl.metadata\n",
      "  Downloading PyAudio-0.2.14-cp311-cp311-win_amd64.whl.metadata (2.7 kB)\n",
      "Downloading PyAudio-0.2.14-cp311-cp311-win_amd64.whl (164 kB)\n",
      "   ---------------------------------------- 0.0/164.1 kB ? eta -:--:--\n",
      "   ------- -------------------------------- 30.7/164.1 kB ? eta -:--:--\n",
      "   ------- -------------------------------- 30.7/164.1 kB ? eta -:--:--\n",
      "   ------- -------------------------------- 30.7/164.1 kB ? eta -:--:--\n",
      "   ------- -------------------------------- 30.7/164.1 kB ? eta -:--:--\n",
      "   ------- -------------------------------- 30.7/164.1 kB ? eta -:--:--\n",
      "   ------- -------------------------------- 30.7/164.1 kB ? eta -:--:--\n",
      "   ------- -------------------------------- 30.7/164.1 kB ? eta -:--:--\n",
      "   ------- -------------------------------- 30.7/164.1 kB ? eta -:--:--\n",
      "   ------- -------------------------------- 30.7/164.1 kB ? eta -:--:--\n",
      "   ------- -------------------------------- 30.7/164.1 kB ? eta -:--:--\n",
      "   ------- -------------------------------- 30.7/164.1 kB ? eta -:--:--\n",
      "   ------- -------------------------------- 30.7/164.1 kB ? eta -:--:--\n",
      "   ------- -------------------------------- 30.7/164.1 kB ? eta -:--:--\n",
      "   ------- -------------------------------- 30.7/164.1 kB ? eta -:--:--\n",
      "   ------- -------------------------------- 30.7/164.1 kB ? eta -:--:--\n",
      "   ------- -------------------------------- 30.7/164.1 kB ? eta -:--:--\n",
      "   ------- -------------------------------- 30.7/164.1 kB ? eta -:--:--\n",
      "   ------- -------------------------------- 30.7/164.1 kB ? eta -:--:--\n",
      "   ------- -------------------------------- 30.7/164.1 kB ? eta -:--:--\n",
      "   ------- -------------------------------- 30.7/164.1 kB ? eta -:--:--\n",
      "   ------- -------------------------------- 30.7/164.1 kB ? eta -:--:--\n",
      "   ------- -------------------------------- 30.7/164.1 kB ? eta -:--:--\n",
      "   --------- ------------------------------ 41.0/164.1 kB 30.3 kB/s eta 0:00:05\n",
      "   --------- ------------------------------ 41.0/164.1 kB 30.3 kB/s eta 0:00:05\n",
      "   --------- ------------------------------ 41.0/164.1 kB 30.3 kB/s eta 0:00:05\n",
      "   --------- ------------------------------ 41.0/164.1 kB 30.3 kB/s eta 0:00:05\n",
      "   --------- ------------------------------ 41.0/164.1 kB 30.3 kB/s eta 0:00:05\n",
      "   --------- ------------------------------ 41.0/164.1 kB 30.3 kB/s eta 0:00:05\n",
      "   --------- ------------------------------ 41.0/164.1 kB 30.3 kB/s eta 0:00:05\n",
      "   --------- ------------------------------ 41.0/164.1 kB 30.3 kB/s eta 0:00:05\n",
      "   --------- ------------------------------ 41.0/164.1 kB 30.3 kB/s eta 0:00:05\n",
      "   --------- ------------------------------ 41.0/164.1 kB 30.3 kB/s eta 0:00:05\n",
      "   -------------- ------------------------- 61.4/164.1 kB 33.8 kB/s eta 0:00:04\n",
      "   -------------- ------------------------- 61.4/164.1 kB 33.8 kB/s eta 0:00:04\n",
      "   ------------------- -------------------- 81.9/164.1 kB 45.4 kB/s eta 0:00:02\n",
      "   ------------------- -------------------- 81.9/164.1 kB 45.4 kB/s eta 0:00:02\n",
      "   ------------------- -------------------- 81.9/164.1 kB 45.4 kB/s eta 0:00:02\n",
      "   ------------------- -------------------- 81.9/164.1 kB 45.4 kB/s eta 0:00:02\n",
      "   ------------------- -------------------- 81.9/164.1 kB 45.4 kB/s eta 0:00:02\n",
      "   ---------------------- ----------------- 92.2/164.1 kB 44.8 kB/s eta 0:00:02\n",
      "   ----------------------------- --------- 122.9/164.1 kB 59.6 kB/s eta 0:00:01\n",
      "   ----------------------------- --------- 122.9/164.1 kB 59.6 kB/s eta 0:00:01\n",
      "   --------------------------------------- 164.1/164.1 kB 77.5 kB/s eta 0:00:00\n",
      "Installing collected packages: PyAudio\n",
      "Successfully installed PyAudio-0.2.14\n"
     ]
    },
    {
     "name": "stderr",
     "output_type": "stream",
     "text": [
      "DEPRECATION: Loading egg at c:\\programdata\\anaconda3\\lib\\site-packages\\vboxapi-1.0-py3.11.egg is deprecated. pip 23.3 will enforce this behaviour change. A possible replacement is to use pip for package installation..\n"
     ]
    }
   ],
   "source": [
    "!pip install PyAudio"
   ]
  },
  {
   "cell_type": "code",
   "execution_count": 41,
   "id": "e1b007a8",
   "metadata": {},
   "outputs": [],
   "source": [
    "import speech_recognition as sr"
   ]
  },
  {
   "cell_type": "code",
   "execution_count": 42,
   "id": "7e38413b",
   "metadata": {},
   "outputs": [
    {
     "name": "stdout",
     "output_type": "stream",
     "text": [
      "Please say something\n"
     ]
    }
   ],
   "source": [
    "r=sr.Recognizer()\n",
    "with sr.Microphone() as source:\n",
    "    print(\"Please say something\")\n",
    "    audio = r.listen(source)\n",
    "    #print(\"Time over, thanks\")\n",
    "try:\n",
    "    print(\"I think you said: \"+r.recognize_google(audio));\n",
    "except:\n",
    "    pass"
   ]
  },
  {
   "cell_type": "code",
   "execution_count": null,
   "id": "e449c0eb",
   "metadata": {},
   "outputs": [],
   "source": []
  }
 ],
 "metadata": {
  "kernelspec": {
   "display_name": "Python 3 (ipykernel)",
   "language": "python",
   "name": "python3"
  },
  "language_info": {
   "codemirror_mode": {
    "name": "ipython",
    "version": 3
   },
   "file_extension": ".py",
   "mimetype": "text/x-python",
   "name": "python",
   "nbconvert_exporter": "python",
   "pygments_lexer": "ipython3",
   "version": "3.11.4"
  }
 },
 "nbformat": 4,
 "nbformat_minor": 5
}
